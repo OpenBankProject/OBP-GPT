{
 "cells": [
  {
   "cell_type": "code",
   "execution_count": 33,
   "id": "5c74b6ae-bd17-43e1-b45e-432142d46a7f",
   "metadata": {},
   "outputs": [],
   "source": [
    "import requests\n",
    "import openai\n",
    "import faiss\n",
    "import json\n",
    "import numpy as np\n",
    "\n",
    "from dotenv import load_dotenv\n",
    "\n",
    "load_dotenv()\n",
    "\n",
    "client = OpenAI()"
   ]
  },
  {
   "cell_type": "code",
   "execution_count": 42,
   "id": "3459648e-f045-4f87-94a3-5f223b551f65",
   "metadata": {},
   "outputs": [],
   "source": [
    "# Get documentation from OBP\n",
    "obp_base_url = \"https://test.openbankproject.com\"\n",
    "obp_version = \"v5.1.0\"\n",
    "\n",
    "# swagger docs\n",
    "swagger_url = \"{}/obp/v5.1.0/resource-docs/{}/swagger\".format(obp_base_url, obp_version)\n",
    "swagger_response = requests.get(swagger_url)\n",
    "swagger_json = swagger_response.json()\n",
    "\n",
    "# glossary\n",
    "glossary_url = \"{}/obp/{}/api/glossary\".format(obp_base_url, obp_version)\n",
    "glossary_response = requests.get(glossary_url)\n",
    "glossary_json = glossary_response.json()"
   ]
  },
  {
   "cell_type": "code",
   "execution_count": 51,
   "id": "c777ee8e-57d4-4f19-a0c8-638ca0948073",
   "metadata": {},
   "outputs": [
    {
     "data": {
      "text/plain": [
       "[{'path': '/obp/v5.1.0/account/check/scheme/iban',\n",
       "  'method': 'post',\n",
       "  'description': '<p>Validate and check IBAN for errors</p><p>Authentication is Optional</p>',\n",
       "  'parameters': [{'in': 'body',\n",
       "    'name': 'body',\n",
       "    'description': 'IbanAddress object that needs to be added.',\n",
       "    'required': True,\n",
       "    'schema': {'$ref': '#/definitions/IbanAddress'}}],\n",
       "  'responses': {'201': {'description': 'Success',\n",
       "    'schema': {'$ref': '#/definitions/IbanCheckerJsonV400'}},\n",
       "   '400': {'description': 'Error',\n",
       "    'schema': {'$ref': '#/definitions/ErrorUnknownError'}}}},\n",
       " {'path': '/obp/v5.1.0/accounts/public',\n",
       "  'method': 'get',\n",
       "  'description': '<p>Get public accounts at all banks (Anonymous access).<br />Returns accounts that contain at least one public view (a view where is_public is true)<br />For each account the API returns the ID and the available views.</p><p>Authentication is Optional</p>',\n",
       "  'parameters': [{'in': 'body',\n",
       "    'name': 'body',\n",
       "    'description': 'EmptyClassJson object that needs to be added.',\n",
       "    'required': True,\n",
       "    'schema': {'$ref': '#/definitions/EmptyClassJson'}}],\n",
       "  'responses': {'200': {'description': 'Success',\n",
       "    'schema': {'$ref': '#/definitions/BasicAccountsJSON'}},\n",
       "   '400': {'description': 'Error',\n",
       "    'schema': {'$ref': '#/definitions/ErrorCannotGetAccounts'}}}}]"
      ]
     },
     "execution_count": 51,
     "metadata": {},
     "output_type": "execute_result"
    }
   ],
   "source": [
    "def parse_swagger(swagger_json):\n",
    "    endpoints = []\n",
    "    for path, methods in swagger_json['paths'].items():\n",
    "        for method, details in methods.items():\n",
    "            endpoint_info = {\n",
    "                'path': path,\n",
    "                'method': method,\n",
    "                'description': details.get('description', ''),\n",
    "                'parameters': details.get('parameters', []),\n",
    "                'responses': details.get('responses', {})\n",
    "            }\n",
    "            endpoints.append(endpoint_info)\n",
    "    return endpoints\n",
    "\n",
    "endpoints = parse_swagger(swagger_json)\n",
    "endpoints[:2]"
   ]
  },
  {
   "cell_type": "code",
   "execution_count": 52,
   "id": "b1bc2a76-f532-4510-9d54-287fd7fd8fcc",
   "metadata": {},
   "outputs": [
    {
     "data": {
      "text/plain": [
       "[{'title': 'API',\n",
       "  'description': 'The terms `API` (Application Programming Interface) and `Endpoint` are used somewhat interchangeably.\\n\\nHowever, an API normally refers to a group of Endpoints.\\n\\nAn endpoint has a unique URL path and HTTP verb (GET, POST, PUT, DELETE etc).\\n\\nWhen we POST a Swagger file to the Create Endpoint endpoint, we are in fact creating a set of Endpoints that have a common Tag. Tags are used to group Endpoints in the API Explorer and filter the Endpoints in the Resource Doc endpoints.\\n\\nEndpoints can also be grouped together in Collections.\\n\\nSee also [Endpoint](/glossary#Endpoint)\\n\\n\\t\\t\\t\\t '},\n",
       " {'title': 'API Collection',\n",
       "  'description': 'An API Collection is a collection of endpoints grouped together for a certain purpose.\\n\\nHaving read access to a Collection does not constitute execute access on the endpoints in the Collection.\\n\\n(Execute access is governed by Entitlements to Roles - and in some cases, Views.)\\n\\nCollections can be created and shared. You can make a collection non-sharable but the default is sharable.\\n\\nYour \"Favourites\" in API Explorer is actually a collection you control named \"Favourites\".\\n\\nTo share a Collection (e.g. your Favourites) just click on your Favourites in the API Explorer and share the URL in the browser. If you want to share the Collection via an API, just share the collection_id with a developer.\\n\\nIf you share a Collection it can\\'t be modified by anyone else, but anyone can use it as a basis for their own Favourites or another collection.\\n\\nThere are over 13 endpoints for controlling Collections.\\nSome of these endpoints require Entitlements to Roles and some operate on your own personal collections such as your favourites.\\n\\n '}]"
      ]
     },
     "execution_count": 52,
     "metadata": {},
     "output_type": "execute_result"
    }
   ],
   "source": [
    "def parse_glossary(glossary_json):\n",
    "    glossary_items = glossary_json['glossary_items']\n",
    "    parsed_items = []\n",
    "    \n",
    "    for item in glossary_items:\n",
    "        title = item.get('title', 'No title')\n",
    "        description_info = item.get('description', {})\n",
    "        \n",
    "        # Get markdown description or else return no description\n",
    "        description = description_info.get('markdown', 'No description')\n",
    "        # do not add descriptions if they are empty\n",
    "        if description == \"\":\n",
    "            continue\n",
    "        \n",
    "        parsed_items.append({\n",
    "            'title': title,\n",
    "            'description': description\n",
    "        })\n",
    "    \n",
    "    return parsed_items\n",
    "\n",
    "glossary_items = parse_glossary(glossary_json)\n",
    "glossary_items[:2]"
   ]
  },
  {
   "cell_type": "code",
   "execution_count": 28,
   "id": "ea8b589b-56bc-4645-a1f4-e852e1656aef",
   "metadata": {},
   "outputs": [],
   "source": [
    "# Create vector embeddings\n",
    "def get_embeddings(texts):\n",
    "    response = client.embeddings.create(\n",
    "        model=\"text-embedding-3-small\",\n",
    "        input=texts\n",
    "    )\n",
    "    \n",
    "    return [e.embedding for e in response.data]"
   ]
  },
  {
   "cell_type": "code",
   "execution_count": 55,
   "id": "68efce72-595c-4109-ab43-e4f07af607d8",
   "metadata": {},
   "outputs": [],
   "source": [
    "def create_and_save_embedding_faiss(formatted_texts: list, json_metadata: list, filename: str):\n",
    "    \"\"\"\n",
    "    Creates and saves text embeddings and metadata for a given list of texts \n",
    "\n",
    "    texts: formatted list of texts for creating embeddings\n",
    "    json_metadata: dict to pass as json metadata (ie. [{'title': 'API', 'description': '<API DESCRIPTION>'}, ...] for glossary)\n",
    "    filename: prefix to attach to saved index and metadata i.e. 'glossary' for saving 'glossary_index.faiss' and 'glossary_metadata.json'\n",
    "    \"\"\"\n",
    "    embeddings = get_embeddings(formatted_texts)\n",
    "    \n",
    "    # Convert embeddings to a numpy array\n",
    "    embeddings_np = np.array(embeddings).astype('float32')\n",
    "    \n",
    "    # Create a FAISS index\n",
    "    index = faiss.IndexFlatL2(embeddings_np.shape[1])  # L2 distance index\n",
    "    index.add(embeddings_np)\n",
    "    \n",
    "    # Optionally, save the index to disk for later use\n",
    "    faiss.write_index(index, f\"{filename}_index.faiss\")\n",
    "    \n",
    "    # Save metadata for retrieval\n",
    "    with open(f\"{filename}_metadata.json\", 'w') as f:\n",
    "        json.dump(json_metadata, f)"
   ]
  },
  {
   "cell_type": "code",
   "execution_count": 56,
   "id": "e9680bc1-075d-4371-9167-1ea96a3d376a",
   "metadata": {},
   "outputs": [],
   "source": [
    "#endpoint_texts = [f\"{e['method'].upper()} {e['path']} - {e['description']}\" for e in endpoints]\n",
    "#endpoint_embeddings = get_embeddings(endpoint_texts)\n"
   ]
  },
  {
   "cell_type": "code",
   "execution_count": 57,
   "id": "9955272a-cd14-4bfd-82f2-9e9051da6eae",
   "metadata": {},
   "outputs": [],
   "source": [
    "glossary_texts = [f\"{g['title']} - {g['description']}\" for g in glossary_items]\n",
    "create_and_save_embedding_faiss(glossary_texts, glossary_items, \"glossary\")\n",
    "\n"
   ]
  },
  {
   "cell_type": "code",
   "execution_count": null,
   "id": "8de6a1a8-771d-4d86-87e4-8ca5656ac344",
   "metadata": {},
   "outputs": [],
   "source": [
    "def search_endpoints(query):\n",
    "    query_embedding = get_embeddings([query])[0]\n",
    "    query_embedding_np = np.array([query_embedding]).astype('float32')\n",
    "\n",
    "    \n",
    "    \n",
    "    # Perform the search\n",
    "    distances, indices = index.search(query_embedding_np, k=5)\n",
    "    \n",
    "    # Load metadata\n",
    "    with open('endpoints_metadata.json', 'r') as f:\n",
    "        endpoints = json.load(f)\n",
    "    \n",
    "    # Retrieve matching endpoints\n",
    "    matches = [endpoints[i] for i in indices[0]]\n",
    "    return matches\n",
    "\n"
   ]
  }
 ],
 "metadata": {
  "kernelspec": {
   "display_name": "Python 3 (ipykernel)",
   "language": "python",
   "name": "python3"
  },
  "language_info": {
   "codemirror_mode": {
    "name": "ipython",
    "version": 3
   },
   "file_extension": ".py",
   "mimetype": "text/x-python",
   "name": "python",
   "nbconvert_exporter": "python",
   "pygments_lexer": "ipython3",
   "version": "3.10.12"
  }
 },
 "nbformat": 4,
 "nbformat_minor": 5
}
