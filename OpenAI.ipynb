{
 "cells": [
  {
   "cell_type": "code",
   "execution_count": 31,
   "id": "5c74b6ae-bd17-43e1-b45e-432142d46a7f",
   "metadata": {},
   "outputs": [],
   "source": [
    "import requests\n",
    "import openai\n",
    "import faiss\n",
    "import json\n",
    "import numpy as np\n",
    "\n",
    "from dotenv import load_dotenv\n",
    "\n",
    "load_dotenv()\n",
    "\n",
    "client = OpenAI()"
   ]
  },
  {
   "cell_type": "code",
   "execution_count": 7,
   "id": "3459648e-f045-4f87-94a3-5f223b551f65",
   "metadata": {},
   "outputs": [],
   "source": [
    "# Get documentation from OBP\n",
    "obp_base_url = \"https://test.openbankproject.com\"\n",
    "obp_version = \"v5.1.0\"\n",
    "\n",
    "swagger_url = \"{}/obp/v5.1.0/resource-docs/{}/swagger\".format(obp_base_url, obp_version)\n",
    "swagger_response = requests.get(swagger_url)\n",
    "swagger_json = swagger_response.json()"
   ]
  },
  {
   "cell_type": "code",
   "execution_count": 8,
   "id": "c777ee8e-57d4-4f19-a0c8-638ca0948073",
   "metadata": {},
   "outputs": [],
   "source": [
    "def parse_swagger(swagger_json):\n",
    "    endpoints = []\n",
    "    for path, methods in swagger_json['paths'].items():\n",
    "        for method, details in methods.items():\n",
    "            endpoint_info = {\n",
    "                'path': path,\n",
    "                'method': method,\n",
    "                'description': details.get('description', ''),\n",
    "                'parameters': details.get('parameters', []),\n",
    "                'responses': details.get('responses', {})\n",
    "            }\n",
    "            endpoints.append(endpoint_info)\n",
    "    return endpoints\n",
    "\n",
    "endpoints = parse_swagger(swagger_json)"
   ]
  },
  {
   "cell_type": "code",
   "execution_count": 28,
   "id": "ea8b589b-56bc-4645-a1f4-e852e1656aef",
   "metadata": {},
   "outputs": [],
   "source": [
    "# Create vector embeddings\n",
    "def get_embeddings(texts):\n",
    "    response = client.embeddings.create(\n",
    "        model=\"text-embedding-3-small\",\n",
    "        input=texts\n",
    "    )\n",
    "    \n",
    "    return [e.embedding for e in response.data]"
   ]
  },
  {
   "cell_type": "code",
   "execution_count": 29,
   "id": "e9680bc1-075d-4371-9167-1ea96a3d376a",
   "metadata": {},
   "outputs": [],
   "source": [
    "texts = [f\"{e['method'].upper()} {e['path']} - {e['description']}\" for e in endpoints[0:10]]\n",
    "embeddings = get_embeddings(texts)"
   ]
  },
  {
   "cell_type": "code",
   "execution_count": 32,
   "id": "ff558735-7931-4617-865c-f70c7ce52b84",
   "metadata": {},
   "outputs": [],
   "source": [
    "# Convert embeddings to a numpy array\n",
    "embeddings_np = np.array(embeddings).astype('float32')\n",
    "\n",
    "# Create a FAISS index\n",
    "index = faiss.IndexFlatL2(embeddings_np.shape[1])  # L2 distance index\n",
    "index.add(embeddings_np)\n",
    "\n",
    "# Optionally, save the index to disk for later use\n",
    "faiss.write_index(index, 'endpoints_index.faiss')\n",
    "\n",
    "# Save metadata for retrieval\n",
    "with open('endpoints_metadata.json', 'w') as f:\n",
    "    json.dump(endpoints, f)"
   ]
  },
  {
   "cell_type": "code",
   "execution_count": null,
   "id": "8de6a1a8-771d-4d86-87e4-8ca5656ac344",
   "metadata": {},
   "outputs": [],
   "source": [
    "def search_endpoints(query):\n",
    "    query_embedding = get_embeddings([query])[0]\n",
    "    query_embedding_np = np.array([query_embedding]).astype('float32')\n",
    "\n",
    "    \n",
    "    \n",
    "    # Perform the search\n",
    "    distances, indices = index.search(query_embedding_np, k=5)\n",
    "    \n",
    "    # Load metadata\n",
    "    with open('endpoints_metadata.json', 'r') as f:\n",
    "        endpoints = json.load(f)\n",
    "    \n",
    "    # Retrieve matching endpoints\n",
    "    matches = [endpoints[i] for i in indices[0]]\n",
    "    return matches\n",
    "\n"
   ]
  }
 ],
 "metadata": {
  "kernelspec": {
   "display_name": "Python 3 (ipykernel)",
   "language": "python",
   "name": "python3"
  },
  "language_info": {
   "codemirror_mode": {
    "name": "ipython",
    "version": 3
   },
   "file_extension": ".py",
   "mimetype": "text/x-python",
   "name": "python",
   "nbconvert_exporter": "python",
   "pygments_lexer": "ipython3",
   "version": "3.10.12"
  }
 },
 "nbformat": 4,
 "nbformat_minor": 5
}
